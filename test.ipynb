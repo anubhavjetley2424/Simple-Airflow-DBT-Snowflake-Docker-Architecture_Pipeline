{
 "cells": [
  {
   "cell_type": "code",
   "execution_count": 1,
   "id": "30c35f14",
   "metadata": {},
   "outputs": [
    {
     "name": "stdout",
     "output_type": "stream",
     "text": [
      "Collecting snowflake-connector-python==3.0.0\n",
      "  Downloading snowflake_connector_python-3.0.0-cp39-cp39-win_amd64.whl (10.7 MB)\n",
      "     ---------------------------------------- 10.7/10.7 MB 3.9 MB/s eta 0:00:00\n",
      "Requirement already satisfied: filelock<4,>=3.5 in c:\\users\\anubh\\appdata\\local\\programs\\python\\python39\\lib\\site-packages (from snowflake-connector-python==3.0.0) (3.18.0)\n",
      "Collecting cryptography<41.0.0,>=3.1.0\n",
      "  Downloading cryptography-40.0.2-cp36-abi3-win_amd64.whl (2.6 MB)\n",
      "     ---------------------------------------- 2.6/2.6 MB 6.7 MB/s eta 0:00:00\n",
      "Requirement already satisfied: idna<4,>=2.5 in c:\\users\\anubh\\appdata\\local\\programs\\python\\python39\\lib\\site-packages (from snowflake-connector-python==3.0.0) (3.10)\n",
      "Requirement already satisfied: cffi<2.0.0,>=1.9 in c:\\users\\anubh\\appdata\\local\\programs\\python\\python39\\lib\\site-packages (from snowflake-connector-python==3.0.0) (1.17.1)\n",
      "Collecting charset-normalizer<3,>=2\n",
      "  Downloading charset_normalizer-2.1.1-py3-none-any.whl (39 kB)\n",
      "Requirement already satisfied: certifi>=2017.4.17 in c:\\users\\anubh\\appdata\\local\\programs\\python\\python39\\lib\\site-packages (from snowflake-connector-python==3.0.0) (2025.1.31)\n",
      "Collecting asn1crypto<2.0.0,>0.24.0\n",
      "  Downloading asn1crypto-1.5.1-py2.py3-none-any.whl (105 kB)\n",
      "     -------------------------------------- 105.0/105.0 KB 5.9 MB/s eta 0:00:00\n",
      "Requirement already satisfied: pytz in c:\\users\\anubh\\appdata\\local\\programs\\python\\python39\\lib\\site-packages (from snowflake-connector-python==3.0.0) (2025.2)\n",
      "Collecting oscrypto<2.0.0\n",
      "  Downloading oscrypto-1.3.0-py2.py3-none-any.whl (194 kB)\n",
      "     -------------------------------------- 194.6/194.6 KB 5.9 MB/s eta 0:00:00\n",
      "Requirement already satisfied: typing-extensions<5,>=4.3 in c:\\users\\anubh\\appdata\\roaming\\python\\python39\\site-packages (from snowflake-connector-python==3.0.0) (4.13.2)\n",
      "Requirement already satisfied: setuptools>34.0.0 in c:\\users\\anubh\\appdata\\local\\programs\\python\\python39\\lib\\site-packages (from snowflake-connector-python==3.0.0) (80.9.0)\n",
      "Collecting pycryptodomex!=3.5.0,<4.0.0,>=3.2\n",
      "  Downloading pycryptodomex-3.23.0-cp37-abi3-win_amd64.whl (1.8 MB)\n",
      "     ---------------------------------------- 1.8/1.8 MB 6.7 MB/s eta 0:00:00\n",
      "Requirement already satisfied: pyjwt<3.0.0 in c:\\users\\anubh\\appdata\\local\\programs\\python\\python39\\lib\\site-packages (from snowflake-connector-python==3.0.0) (2.10.1)\n",
      "Collecting pyOpenSSL<24.0.0,>=16.2.0\n",
      "  Downloading pyOpenSSL-23.3.0-py3-none-any.whl (58 kB)\n",
      "     ---------------------------------------- 58.8/58.8 KB 3.0 MB/s eta 0:00:00\n",
      "Collecting urllib3<1.27,>=1.21.1\n",
      "  Using cached urllib3-1.26.20-py2.py3-none-any.whl (144 kB)\n",
      "Requirement already satisfied: requests<3.0.0 in c:\\users\\anubh\\appdata\\local\\programs\\python\\python39\\lib\\site-packages (from snowflake-connector-python==3.0.0) (2.32.3)\n",
      "Requirement already satisfied: pycparser in c:\\users\\anubh\\appdata\\local\\programs\\python\\python39\\lib\\site-packages (from cffi<2.0.0,>=1.9->snowflake-connector-python==3.0.0) (2.22)\n",
      "Collecting pyOpenSSL<24.0.0,>=16.2.0\n",
      "  Downloading pyOpenSSL-23.2.0-py3-none-any.whl (59 kB)\n",
      "     ---------------------------------------- 59.0/59.0 KB ? eta 0:00:00\n",
      "Installing collected packages: asn1crypto, urllib3, pycryptodomex, oscrypto, charset-normalizer, cryptography, pyOpenSSL, snowflake-connector-python\n",
      "  Attempting uninstall: urllib3\n",
      "    Found existing installation: urllib3 2.4.0\n",
      "    Uninstalling urllib3-2.4.0:\n",
      "      Successfully uninstalled urllib3-2.4.0\n",
      "  Attempting uninstall: charset-normalizer\n",
      "    Found existing installation: charset-normalizer 3.4.1\n",
      "    Uninstalling charset-normalizer-3.4.1:\n",
      "      Successfully uninstalled charset-normalizer-3.4.1\n",
      "  Attempting uninstall: cryptography\n",
      "    Found existing installation: cryptography 45.0.3\n",
      "    Uninstalling cryptography-45.0.3:\n",
      "      Successfully uninstalled cryptography-45.0.3\n",
      "Successfully installed asn1crypto-1.5.1 charset-normalizer-2.1.1 cryptography-40.0.2 oscrypto-1.3.0 pyOpenSSL-23.2.0 pycryptodomex-3.23.0 snowflake-connector-python-3.0.0 urllib3-1.26.20\n"
     ]
    },
    {
     "name": "stderr",
     "output_type": "stream",
     "text": [
      "ERROR: pip's dependency resolver does not currently take into account all the packages that are installed. This behaviour is the source of the following dependency conflicts.\n",
      "types-requests 2.32.0.20250515 requires urllib3>=2, but you have urllib3 1.26.20 which is incompatible.\n",
      "apache-flink 2.0.0 requires py4j==0.10.9.7, but you have py4j 0.10.9.9 which is incompatible.\n",
      "apache-beam 2.61.0 requires grpcio!=1.48.0,!=1.59.*,!=1.60.*,!=1.61.*,!=1.62.0,!=1.62.1,<1.66.0,<2,>=1.33.1, but you have grpcio 1.71.0 which is incompatible.\n",
      "apache-airflow-core 3.0.1 requires cryptography>=41.0.0, but you have cryptography 40.0.2 which is incompatible.\n",
      "WARNING: You are using pip version 22.0.4; however, version 25.1.1 is available.\n",
      "You should consider upgrading via the 'C:\\Users\\anubh\\AppData\\Local\\Programs\\Python\\Python39\\python.exe -m pip install --upgrade pip' command.\n"
     ]
    }
   ],
   "source": [
    "!pip install snowflake-connector-python==3.0.0"
   ]
  },
  {
   "cell_type": "code",
   "execution_count": null,
   "id": "80556672",
   "metadata": {},
   "outputs": [],
   "source": [
    "pip show nstall snowflake-connector-python==3.0.0"
   ]
  }
 ],
 "metadata": {
  "kernelspec": {
   "display_name": "Python 3",
   "language": "python",
   "name": "python3"
  },
  "language_info": {
   "codemirror_mode": {
    "name": "ipython",
    "version": 3
   },
   "file_extension": ".py",
   "mimetype": "text/x-python",
   "name": "python",
   "nbconvert_exporter": "python",
   "pygments_lexer": "ipython3",
   "version": "3.9.13"
  }
 },
 "nbformat": 4,
 "nbformat_minor": 5
}
